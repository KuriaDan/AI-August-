{
 "cells": [
  {
   "cell_type": "code",
   "execution_count": null,
   "metadata": {},
   "outputs": [],
   "source": [
    "import twint\n",
    "import pandas as pd\n",
    "# setup twint config\n",
    "c = twint.Config()\n",
    "# Search tweets containing Beirut\n",
    "c.Search = 'Beirut'\n",
    "# scrap 100,000 tweets\n",
    "c.Count = 100000\n",
    "# Scrap tweets from fourth to fifth august\n",
    "c.Since = '2020-08-04'\n",
    "c.Until = '2020-08-05'\n",
    "# save the tweets into a pandas df\n",
    "c.pandas = True\n",
    "c.Format = \"username: {username} | Tweet: {tweet}\"\n",
    "twint.run.Search(c)\n",
    "\n",
    "\n",
    "def twint_to_pandas(columns):\n",
    "    return twint.output.panda.Tweets_df[columns]\n",
    "\n",
    "beirut_df = twint_to_pandas(['date', 'username', 'tweet', 'hashtags', 'nlikes', 'location', 'link', 'timezone', 'nretweets', 'nreplies'])\n",
    "# obtaining timestamp in a readable format\n",
    "from datetime import datetime\n",
    "to_csv_timestamp = datetime.today().strftime('%Y%m%d_%H%M%S')\n",
    "# defining working path and filename\n",
    "import os\n",
    "path=os.getcwd()\n",
    "filename=path + '/data/' + to_csv_timestamp + '_beirut.csv'\n",
    "# storing dataframe as a csv with creation date and timestamp\n",
    "beirut_df.to_csv(filename, index=False)"
   ]
  }
 ],
 "metadata": {
  "kernelspec": {
   "display_name": "Python 3",
   "language": "python",
   "name": "python3"
  },
  "language_info": {
   "codemirror_mode": {
    "name": "ipython",
    "version": 3
   },
   "file_extension": ".py",
   "mimetype": "text/x-python",
   "name": "python",
   "nbconvert_exporter": "python",
   "pygments_lexer": "ipython3",
   "version": "3.7.6"
  }
 },
 "nbformat": 4,
 "nbformat_minor": 4
}
